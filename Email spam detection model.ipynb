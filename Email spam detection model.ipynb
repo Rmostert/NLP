{
 "cells": [
  {
   "cell_type": "markdown",
   "metadata": {},
   "source": [
    "# Background"
   ]
  },
  {
   "cell_type": "markdown",
   "metadata": {
    "ExecuteTime": {
     "end_time": "2018-03-30T11:41:33.018932Z",
     "start_time": "2018-03-30T11:41:33.013044Z"
    }
   },
   "source": [
    "In this project we'll build an e-mail spam detection model. We'll use the Spam dataset that is availible on the UCI Machine learning repository:\n",
    "https://archive.ics.uci.edu/ml/datasets/Spambase"
   ]
  },
  {
   "cell_type": "markdown",
   "metadata": {},
   "source": [
    "Let's start by importing the required libraries"
   ]
  },
  {
   "cell_type": "code",
   "execution_count": 1,
   "metadata": {
    "ExecuteTime": {
     "end_time": "2018-04-01T09:21:13.987266Z",
     "start_time": "2018-04-01T09:20:55.654338Z"
    }
   },
   "outputs": [],
   "source": [
    "from six.moves import urllib\n",
    "import os\n",
    "import pandas as pd\n",
    "import numpy as np\n",
    "from sklearn.naive_bayes import MultinomialNB\n",
    "from sklearn.ensemble import AdaBoostClassifier\n",
    "from sklearn.metrics import accuracy_score"
   ]
  },
  {
   "cell_type": "markdown",
   "metadata": {},
   "source": [
    "Next we'll import the data and convert it immediately to matrix format"
   ]
  },
  {
   "cell_type": "code",
   "execution_count": 15,
   "metadata": {
    "ExecuteTime": {
     "end_time": "2018-03-30T11:46:08.471824Z",
     "start_time": "2018-03-30T11:46:06.808845Z"
    }
   },
   "outputs": [
    {
     "data": {
      "text/plain": [
       "('spambase.data', <http.client.HTTPMessage at 0x117a45390>)"
      ]
     },
     "execution_count": 15,
     "metadata": {},
     "output_type": "execute_result"
    }
   ],
   "source": [
    "spam_ulr = \"https://archive.ics.uci.edu/ml/machine-learning-databases/spambase/\"\n",
    "file_name = \"spambase.data\"\n",
    "\n",
    "urllib.request.urlretrieve(spam_ulr,file_name)"
   ]
  },
  {
   "cell_type": "code",
   "execution_count": 2,
   "metadata": {
    "ExecuteTime": {
     "end_time": "2018-04-01T09:21:14.668596Z",
     "start_time": "2018-04-01T09:21:13.990128Z"
    }
   },
   "outputs": [],
   "source": [
    "data = pd.read_csv('spambase.data').as_matrix()"
   ]
  },
  {
   "cell_type": "code",
   "execution_count": 3,
   "metadata": {
    "ExecuteTime": {
     "end_time": "2018-03-30T11:38:53.458170Z",
     "start_time": "2018-03-30T11:38:53.441809Z"
    }
   },
   "outputs": [
    {
     "data": {
      "text/plain": [
       "(4600, 58)"
      ]
     },
     "execution_count": 3,
     "metadata": {},
     "output_type": "execute_result"
    }
   ],
   "source": [
    "data.shape"
   ]
  },
  {
   "cell_type": "markdown",
   "metadata": {},
   "source": [
    "Next we'll shuffle our data and split it into a training and test set"
   ]
  },
  {
   "cell_type": "code",
   "execution_count": 4,
   "metadata": {
    "ExecuteTime": {
     "end_time": "2018-03-30T11:38:55.453930Z",
     "start_time": "2018-03-30T11:38:55.435915Z"
    }
   },
   "outputs": [],
   "source": [
    "np.random.seed(89)\n",
    "np.random.shuffle(data)"
   ]
  },
  {
   "cell_type": "code",
   "execution_count": 5,
   "metadata": {
    "ExecuteTime": {
     "end_time": "2018-03-30T11:38:56.006857Z",
     "start_time": "2018-03-30T11:38:56.002486Z"
    }
   },
   "outputs": [],
   "source": [
    "X = data[:,:48]\n",
    "y = data[:,-1]"
   ]
  },
  {
   "cell_type": "code",
   "execution_count": 6,
   "metadata": {
    "ExecuteTime": {
     "end_time": "2018-03-30T11:38:56.406203Z",
     "start_time": "2018-03-30T11:38:56.401052Z"
    }
   },
   "outputs": [],
   "source": [
    "X_train = X[:-100,]\n",
    "y_train = y[:-100,]"
   ]
  },
  {
   "cell_type": "code",
   "execution_count": 7,
   "metadata": {
    "ExecuteTime": {
     "end_time": "2018-03-30T11:38:56.836263Z",
     "start_time": "2018-03-30T11:38:56.832266Z"
    }
   },
   "outputs": [],
   "source": [
    "X_test = X[-100:,]\n",
    "y_test = y[-100:,]"
   ]
  },
  {
   "cell_type": "markdown",
   "metadata": {},
   "source": [
    "Now we can fit a Naive Bayes model to the data"
   ]
  },
  {
   "cell_type": "code",
   "execution_count": 32,
   "metadata": {
    "ExecuteTime": {
     "end_time": "2018-03-30T13:14:45.689798Z",
     "start_time": "2018-03-30T13:14:45.675462Z"
    }
   },
   "outputs": [
    {
     "name": "stdout",
     "output_type": "stream",
     "text": [
      "Accuracy rate for NB on training set: 0.87\n"
     ]
    }
   ],
   "source": [
    "NB_model = MultinomialNB()\n",
    "NB_model.fit(X_train,y_train)\n",
    "\n",
    "print(\"Accuracy rate for NB on training set: {:1.2f}\".format(NB_model.score(X_train,y_train)))"
   ]
  },
  {
   "cell_type": "code",
   "execution_count": 31,
   "metadata": {
    "ExecuteTime": {
     "end_time": "2018-03-30T13:14:37.674085Z",
     "start_time": "2018-03-30T13:14:37.667517Z"
    }
   },
   "outputs": [
    {
     "name": "stdout",
     "output_type": "stream",
     "text": [
      "Accuracy rate for NB on test set: 0.89\n"
     ]
    }
   ],
   "source": [
    "y_predict = NB_model.predict(X_test)\n",
    "\n",
    "print(\"Accuracy rate for NB on test set: {:1.2f}\".format(accuracy_score(y_test,y_predict)))\\\n"
   ]
  },
  {
   "cell_type": "code",
   "execution_count": 33,
   "metadata": {
    "ExecuteTime": {
     "end_time": "2018-03-30T13:14:49.245365Z",
     "start_time": "2018-03-30T13:14:48.899358Z"
    }
   },
   "outputs": [
    {
     "name": "stdout",
     "output_type": "stream",
     "text": [
      "Accuracy rate for AdaBoost on training set: 0.93\n"
     ]
    }
   ],
   "source": [
    "AdaBoost_model = AdaBoostClassifier()\n",
    "AdaBoost_model.fit(X_train,y_train)\n",
    "print(\"Accuracy rate for AdaBoost on training set: {:1.2f}\".format(AdaBoost_model.score(X_train,y_train)))"
   ]
  },
  {
   "cell_type": "code",
   "execution_count": 34,
   "metadata": {
    "ExecuteTime": {
     "end_time": "2018-03-30T13:14:51.074508Z",
     "start_time": "2018-03-30T13:14:51.058494Z"
    }
   },
   "outputs": [
    {
     "name": "stdout",
     "output_type": "stream",
     "text": [
      "Accuracy rate for AdaBoost on test set: 0.90\n"
     ]
    }
   ],
   "source": [
    "y_predict = AdaBoost_model.predict(X_test)\n",
    "print(\"Accuracy rate for AdaBoost on test set: {:1.2f}\".format(accuracy_score(y_test,y_predict)))"
   ]
  },
  {
   "cell_type": "code",
   "execution_count": null,
   "metadata": {},
   "outputs": [],
   "source": []
  }
 ],
 "metadata": {
  "kernelspec": {
   "display_name": "Python 3",
   "language": "python",
   "name": "python3"
  },
  "language_info": {
   "codemirror_mode": {
    "name": "ipython",
    "version": 3
   },
   "file_extension": ".py",
   "mimetype": "text/x-python",
   "name": "python",
   "nbconvert_exporter": "python",
   "pygments_lexer": "ipython3",
   "version": "3.6.4"
  },
  "toc": {
   "nav_menu": {},
   "number_sections": true,
   "sideBar": true,
   "skip_h1_title": false,
   "title_cell": "Table of Contents",
   "title_sidebar": "Contents",
   "toc_cell": false,
   "toc_position": {},
   "toc_section_display": true,
   "toc_window_display": true
  }
 },
 "nbformat": 4,
 "nbformat_minor": 2
}
